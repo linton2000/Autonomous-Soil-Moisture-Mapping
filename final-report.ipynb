{
 "cells": [
  {
   "cell_type": "code",
   "execution_count": 1,
   "metadata": {},
   "outputs": [],
   "source": [
    "import scipy.io as sp\n",
    "import numpy as np\n",
    "import matplotlib.pyplot as plt\n",
    "from datetime import datetime, date, time\n",
    "import pandas as pd\n",
    "import utils as ut"
   ]
  },
  {
   "cell_type": "code",
   "execution_count": 17,
   "metadata": {},
   "outputs": [],
   "source": [
    "yancoMatCols = ['stemp', 'TBh1', 'TBh2', 'TBh3', 'TBh4', 'TBv1', 'TBv2', 'TBv3', 'TBv4', 'latDeg', 'lngDeg']\n",
    "yancoMat09 = pd.DataFrame(sp.loadmat('yanko-data/Yanco_Elbara_data/geodata_20150909.mat')['fdata'], columns=yancoMatCols)\n",
    "yancoMat11 = pd.DataFrame(sp.loadmat('yanko-data/Yanco_Elbara_data/geodata_20150911.mat')['fdata'], columns=yancoMatCols)\n",
    "yancoMat14 = pd.DataFrame(sp.loadmat('yanko-data/Yanco_Elbara_data/geodata_20150914.mat')['fdata'], columns=yancoMatCols)\n",
    "yancoMat17 = pd.DataFrame(sp.loadmat('yanko-data/Yanco_Elbara_data/geodata_20150917.mat')['fdata'], columns=yancoMatCols)\n",
    "yancoMat19 = pd.DataFrame(sp.loadmat('yanko-data/Yanco_Elbara_data/geodata_20150919.mat')['fdata'], columns=yancoMatCols)\n",
    "yancoMat22 = pd.DataFrame(sp.loadmat('yanko-data/Yanco_Elbara_data/geodata_20150922.mat')['fdata'], columns=yancoMatCols)\n",
    "yancoMat24 = pd.DataFrame(sp.loadmat('yanko-data/Yanco_Elbara_data/geodata_20150924.mat')['fdata'], columns=yancoMatCols)\n",
    "yancoMat27 = pd.DataFrame(sp.loadmat('yanko-data/Yanco_Elbara_data/geodata_20150927.mat')['fdata'], columns=yancoMatCols)\n",
    "yancoMatAll = pd.concat([yancoMat09, yancoMat11, yancoMat14, yancoMat17, yancoMat19, yancoMat22, yancoMat24, yancoMat27])"
   ]
  },
  {
   "cell_type": "code",
   "execution_count": 21,
   "metadata": {},
   "outputs": [],
   "source": [
    "yancoMatAll.to_csv('temp.csv')"
   ]
  }
 ],
 "metadata": {
  "kernelspec": {
   "display_name": "Python 3",
   "language": "python",
   "name": "python3"
  },
  "language_info": {
   "codemirror_mode": {
    "name": "ipython",
    "version": 3
   },
   "file_extension": ".py",
   "mimetype": "text/x-python",
   "name": "python",
   "nbconvert_exporter": "python",
   "pygments_lexer": "ipython3",
   "version": "3.9.19"
  }
 },
 "nbformat": 4,
 "nbformat_minor": 2
}

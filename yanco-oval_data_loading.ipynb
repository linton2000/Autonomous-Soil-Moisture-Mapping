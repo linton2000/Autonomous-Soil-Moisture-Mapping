{
 "cells": [
  {
   "cell_type": "code",
   "execution_count": 2,
   "metadata": {},
   "outputs": [],
   "source": [
    "import scipy.io as sp\n",
    "import pandas as pd\n",
    "import utils as ut"
   ]
  },
  {
   "cell_type": "code",
   "execution_count": 2,
   "metadata": {},
   "outputs": [],
   "source": [
    "COORD_PRECISION = 8"
   ]
  },
  {
   "cell_type": "code",
   "execution_count": 3,
   "metadata": {},
   "outputs": [],
   "source": [
    "yancoMatCols = ['stemp', 'TBh1', 'TBh2', 'TBh3', 'TBh4', 'TBv1', 'TBv2', 'TBv3', 'TBv4', 'latDeg', 'lngDeg']\n",
    "yancoMat09 = pd.DataFrame(sp.loadmat('yanko-data/Yanco_Elbara_data/geodata_20150909.mat')['fdata'], columns=yancoMatCols)\n",
    "yancoMat09['srcDate'] = '20150909'\n",
    "yancoMat11 = pd.DataFrame(sp.loadmat('yanko-data/Yanco_Elbara_data/geodata_20150911.mat')['fdata'], columns=yancoMatCols)\n",
    "yancoMat11['srcDate'] = '20150911'\n",
    "yancoMat14 = pd.DataFrame(sp.loadmat('yanko-data/Yanco_Elbara_data/geodata_20150914.mat')['fdata'], columns=yancoMatCols)\n",
    "yancoMat14['srcDate'] = '20150914'\n",
    "yancoMat17 = pd.DataFrame(sp.loadmat('yanko-data/Yanco_Elbara_data/geodata_20150917.mat')['fdata'], columns=yancoMatCols)\n",
    "yancoMat17['srcDate'] = '20150917'\n",
    "yancoMat19 = pd.DataFrame(sp.loadmat('yanko-data/Yanco_Elbara_data/geodata_20150919.mat')['fdata'], columns=yancoMatCols)\n",
    "yancoMat19['srcDate'] = '20150919'\n",
    "yancoMat22 = pd.DataFrame(sp.loadmat('yanko-data/Yanco_Elbara_data/geodata_20150922.mat')['fdata'], columns=yancoMatCols)\n",
    "yancoMat22['srcDate'] = '20150922'\n",
    "yancoMat24 = pd.DataFrame(sp.loadmat('yanko-data/Yanco_Elbara_data/geodata_20150924.mat')['fdata'], columns=yancoMatCols)\n",
    "yancoMat24['srcDate'] = '20150924'\n",
    "yancoMat27 = pd.DataFrame(sp.loadmat('yanko-data/Yanco_Elbara_data/geodata_20150927.mat')['fdata'], columns=yancoMatCols)\n",
    "yancoMat27['srcDate'] = '20150927'\n",
    "yancoMatAll = pd.concat([yancoMat09, yancoMat11, yancoMat14, yancoMat17, yancoMat19, yancoMat22, yancoMat24, yancoMat27])"
   ]
  },
  {
   "cell_type": "code",
   "execution_count": 4,
   "metadata": {},
   "outputs": [],
   "source": [
    "yancoCSV09 = pd.read_csv('yanko-data/Yanco_Elbara_data/0909.csv')\n",
    "yancoCSV09['srcDate'] = '20150909'\n",
    "yancoCSV11 = pd.read_csv('yanko-data/Yanco_Elbara_data/0911.csv')\n",
    "yancoCSV11['srcDate'] = '20150911'\n",
    "yancoCSV14 = pd.read_csv('yanko-data/Yanco_Elbara_data/0914.csv')\n",
    "yancoCSV14['srcDate'] = '20150914'\n",
    "yancoCSV17 = pd.read_csv('yanko-data/Yanco_Elbara_data/0917.csv')\n",
    "yancoCSV17['srcDate'] = '20150917'\n",
    "yancoCSV19 = pd.read_csv('yanko-data/Yanco_Elbara_data/0919.csv')\n",
    "yancoCSV19['srcDate'] = '20150919'\n",
    "yancoCSV22 = pd.read_csv('yanko-data/Yanco_Elbara_data/0922.csv')\n",
    "yancoCSV22['srcDate'] = '20150922'\n",
    "yancoCSV24 = pd.read_csv('yanko-data/Yanco_Elbara_data/0924.csv')\n",
    "yancoCSV24['srcDate'] = '20150924'\n",
    "yancoCSV27 = pd.read_csv('yanko-data/Yanco_Elbara_data/0927.csv')\n",
    "yancoCSV27['srcDate'] = '20150927'\n",
    "yancoCSVAll = pd.concat([yancoCSV09, yancoCSV11, yancoCSV14, yancoCSV17, yancoCSV19, yancoCSV22, yancoCSV24, yancoCSV27])"
   ]
  },
  {
   "cell_type": "code",
   "execution_count": null,
   "metadata": {},
   "outputs": [],
   "source": [
    "yancoCSVAll['latDeg'] = yancoCSVAll.apply(lambda row: ut.utmToLatLng(55, row['LONGITUDE'], row['LATITUDE'])[0], axis=1)\n",
    "yancoCSVAll['lngDeg'] = yancoCSVAll.apply(lambda row: ut.utmToLatLng(55, row['LONGITUDE'], row['LATITUDE'])[1], axis=1)\n",
    "yancoCSVAll['coord_id'] = yancoCSVAll.groupby([yancoCSVAll['latDeg'].round(COORD_PRECISION), yancoCSVAll['lngDeg'].round(COORD_PRECISION)]).ngroup()\n",
    "yancoCSVAll"
   ]
  },
  {
   "cell_type": "code",
   "execution_count": null,
   "metadata": {},
   "outputs": [],
   "source": [
    "yancoMatAll['coord_id'] = yancoMatAll.groupby([yancoMatAll['latDeg'].round(COORD_PRECISION), yancoMatAll['lngDeg'].round(COORD_PRECISION)]).ngroup()\n",
    "yancoMatAll"
   ]
  },
  {
   "cell_type": "code",
   "execution_count": 8,
   "metadata": {},
   "outputs": [],
   "source": [
    "yancoMatAll = yancoMatAll.sort_values(['coord_id'])\n",
    "yancoCSVAll = yancoCSVAll.sort_values(['coord_id'])\n",
    "yancoAll = pd.merge_asof(yancoMatAll, yancoCSVAll, on='coord_id', direction='nearest')\n",
    "yancoAll.to_csv('combined_yanco.csv')"
   ]
  },
  {
   "cell_type": "code",
   "execution_count": 4,
   "metadata": {},
   "outputs": [],
   "source": [
    "ovalMatAll = sp.loadmat('matlab_lmeb/geodata_rall_SM.mat')['RES']\n",
    "ovalMatCols = ['col1', 'TBh1', 'TBh2', 'TBh3', 'TBh4', 'TBv1', 'TBv2', 'TBv3', 'TBv4', 'latDeg', 'lngDeg', 'lmebRet']\n",
    "ovalMatAll = pd.DataFrame(ovalMatAll, columns=ovalMatCols)\n",
    "ovalMatAll.to_csv('combined_oval.csv')"
   ]
  }
 ],
 "metadata": {
  "kernelspec": {
   "display_name": "Python 3",
   "language": "python",
   "name": "python3"
  },
  "language_info": {
   "codemirror_mode": {
    "name": "ipython",
    "version": 3
   },
   "file_extension": ".py",
   "mimetype": "text/x-python",
   "name": "python",
   "nbconvert_exporter": "python",
   "pygments_lexer": "ipython3",
   "version": "3.9.6"
  }
 },
 "nbformat": 4,
 "nbformat_minor": 2
}
